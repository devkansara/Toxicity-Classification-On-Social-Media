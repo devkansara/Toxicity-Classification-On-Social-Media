{
 "cells": [
  {
   "cell_type": "code",
   "execution_count": 1,
   "metadata": {},
   "outputs": [],
   "source": [
    "import torch\n",
    "from torch.utils.data import DataLoader, TensorDataset, random_split\n",
    "from transformers import BertTokenizer, BertForSequenceClassification, AdamW\n",
    "import pandas as pd\n",
    "from sklearn.metrics import classification_report\n",
    "from sklearn.model_selection import train_test_split"
   ]
  },
  {
   "cell_type": "code",
   "execution_count": 2,
   "metadata": {},
   "outputs": [],
   "source": [
    "data = pd.read_csv('../dataset.csv')\n",
    "comments = data.comment_text.values\n",
    "labels = data[['toxic', 'severe_toxic', 'obscene', 'threat', 'insult', 'identity_hate']].values"
   ]
  },
  {
   "cell_type": "code",
   "execution_count": 3,
   "metadata": {},
   "outputs": [],
   "source": [
    "# Preprocessing\n",
    "tokenizer = BertTokenizer.from_pretrained('bert-base-uncased')\n",
    "tokenized_comments = tokenizer(comments.tolist(), padding=True, truncation=True, max_length=128, return_tensors=\"pt\")"
   ]
  },
  {
   "cell_type": "code",
   "execution_count": 6,
   "metadata": {},
   "outputs": [],
   "source": [
    "# Split the dataset into training and validation sets first\n",
    "train_comments, val_comments, train_labels, val_labels = train_test_split(comments, labels, test_size=0.1, random_state=42)\n",
    "\n",
    "# Tokenize the training set\n",
    "train_encodings = tokenizer(list(train_comments), truncation=True, padding=True, max_length=128)\n",
    "train_labels = torch.tensor(train_labels)\n",
    "\n",
    "# Tokenize the validation set\n",
    "val_encodings = tokenizer(list(val_comments), truncation=True, padding=True, max_length=128)\n",
    "val_labels = torch.tensor(val_labels)\n",
    "\n",
    "# Convert to PyTorch datasets\n",
    "train_dataset = TensorDataset(torch.tensor(train_encodings['input_ids']), \n",
    "                              torch.tensor(train_encodings['attention_mask']), \n",
    "                              train_labels)\n",
    "val_dataset = TensorDataset(torch.tensor(val_encodings['input_ids']), \n",
    "                            torch.tensor(val_encodings['attention_mask']), \n",
    "                            val_labels)\n"
   ]
  },
  {
   "cell_type": "code",
   "execution_count": 9,
   "metadata": {},
   "outputs": [],
   "source": [
    "# Define DataLoaders for the training and validation datasets\n",
    "train_loader = DataLoader(train_dataset, batch_size=16, shuffle=True)\n",
    "val_loader = DataLoader(val_dataset, batch_size=16, shuffle=False)"
   ]
  },
  {
   "cell_type": "code",
   "execution_count": 10,
   "metadata": {},
   "outputs": [
    {
     "name": "stderr",
     "output_type": "stream",
     "text": [
      "Some weights of BertForSequenceClassification were not initialized from the model checkpoint at bert-base-uncased and are newly initialized: ['classifier.bias', 'classifier.weight']\n",
      "You should probably TRAIN this model on a down-stream task to be able to use it for predictions and inference.\n"
     ]
    }
   ],
   "source": [
    "model = BertForSequenceClassification.from_pretrained('bert-base-uncased', num_labels=6)"
   ]
  },
  {
   "cell_type": "code",
   "execution_count": 14,
   "metadata": {},
   "outputs": [
    {
     "name": "stdout",
     "output_type": "stream",
     "text": [
      "Using device: mps\n"
     ]
    },
    {
     "data": {
      "text/plain": [
       "BertForSequenceClassification(\n",
       "  (bert): BertModel(\n",
       "    (embeddings): BertEmbeddings(\n",
       "      (word_embeddings): Embedding(30522, 768, padding_idx=0)\n",
       "      (position_embeddings): Embedding(512, 768)\n",
       "      (token_type_embeddings): Embedding(2, 768)\n",
       "      (LayerNorm): LayerNorm((768,), eps=1e-12, elementwise_affine=True)\n",
       "      (dropout): Dropout(p=0.1, inplace=False)\n",
       "    )\n",
       "    (encoder): BertEncoder(\n",
       "      (layer): ModuleList(\n",
       "        (0-11): 12 x BertLayer(\n",
       "          (attention): BertAttention(\n",
       "            (self): BertSelfAttention(\n",
       "              (query): Linear(in_features=768, out_features=768, bias=True)\n",
       "              (key): Linear(in_features=768, out_features=768, bias=True)\n",
       "              (value): Linear(in_features=768, out_features=768, bias=True)\n",
       "              (dropout): Dropout(p=0.1, inplace=False)\n",
       "            )\n",
       "            (output): BertSelfOutput(\n",
       "              (dense): Linear(in_features=768, out_features=768, bias=True)\n",
       "              (LayerNorm): LayerNorm((768,), eps=1e-12, elementwise_affine=True)\n",
       "              (dropout): Dropout(p=0.1, inplace=False)\n",
       "            )\n",
       "          )\n",
       "          (intermediate): BertIntermediate(\n",
       "            (dense): Linear(in_features=768, out_features=3072, bias=True)\n",
       "            (intermediate_act_fn): GELUActivation()\n",
       "          )\n",
       "          (output): BertOutput(\n",
       "            (dense): Linear(in_features=3072, out_features=768, bias=True)\n",
       "            (LayerNorm): LayerNorm((768,), eps=1e-12, elementwise_affine=True)\n",
       "            (dropout): Dropout(p=0.1, inplace=False)\n",
       "          )\n",
       "        )\n",
       "      )\n",
       "    )\n",
       "    (pooler): BertPooler(\n",
       "      (dense): Linear(in_features=768, out_features=768, bias=True)\n",
       "      (activation): Tanh()\n",
       "    )\n",
       "  )\n",
       "  (dropout): Dropout(p=0.1, inplace=False)\n",
       "  (classifier): Linear(in_features=768, out_features=6, bias=True)\n",
       ")"
      ]
     },
     "execution_count": 14,
     "metadata": {},
     "output_type": "execute_result"
    }
   ],
   "source": [
    "device = torch.device(\"mps\" if torch.backends.mps.is_available() else \"cpu\")\n",
    "print(f\"Using device: {device}\")\n",
    "\n",
    "model.to(device)  # Move your model to the selected device"
   ]
  },
  {
   "cell_type": "code",
   "execution_count": 17,
   "metadata": {},
   "outputs": [
    {
     "name": "stdout",
     "output_type": "stream",
     "text": [
      "Using device: mps\n",
      "Epoch 1/4, Average Loss: 0.0482\n",
      "Epoch 2/4, Average Loss: 0.0385\n",
      "Epoch 3/4, Average Loss: 0.0336\n",
      "Epoch 4/4, Average Loss: 0.0293\n"
     ]
    }
   ],
   "source": [
    "from torch.optim import AdamW\n",
    "\n",
    "device = torch.device(\"mps\" if torch.backends.mps.is_available() else \"cpu\")\n",
    "print(f\"Using device: {device}\")\n",
    "model.to(device)\n",
    "\n",
    "optimizer = AdamW(model.parameters(), lr=5e-5)\n",
    "\n",
    "for epoch in range(4): \n",
    "    model.train()\n",
    "    epoch_loss = 0.0\n",
    "    num_batches = 0\n",
    "    \n",
    "    for batch in train_loader:\n",
    "        b_input_ids, b_input_mask, b_labels = [t.to(device) for t in batch]\n",
    "        \n",
    "        optimizer.zero_grad()\n",
    "        outputs = model(b_input_ids, token_type_ids=None, attention_mask=b_input_mask, labels=b_labels.float())\n",
    "        loss = outputs.loss\n",
    "        loss.backward()\n",
    "        optimizer.step()\n",
    "        epoch_loss += loss.item()\n",
    "        num_batches += 1\n",
    "    \n",
    "    average_loss = epoch_loss / num_batches\n",
    "    print(f\"Epoch {epoch+1}/{4}, Average Loss: {average_loss:.4f}\")"
   ]
  },
  {
   "cell_type": "code",
   "execution_count": 19,
   "metadata": {},
   "outputs": [],
   "source": [
    "# Save the model's state dictionary\n",
    "torch.save(model.state_dict(), 'model_state_dict.pth')\n",
    "\n",
    "# Optionally, save the optimizer state\n",
    "torch.save(optimizer.state_dict(), 'optimizer_state_dict.pth')"
   ]
  },
  {
   "cell_type": "code",
   "execution_count": null,
   "metadata": {},
   "outputs": [],
   "source": [
    "# Assuming the model and optimizer have been defined with the same architecture\n",
    "model.load_state_dict(torch.load('model_state_dict.pth'))\n",
    "\n",
    "# If you also saved and now wish to load the optimizer state\n",
    "optimizer.load_state_dict(torch.load('optimizer_state_dict.pth'))\n",
    "\n",
    "# Move model back to the appropriate device after loading weights\n",
    "model.to(device)\n"
   ]
  },
  {
   "cell_type": "code",
   "execution_count": 21,
   "metadata": {},
   "outputs": [],
   "source": [
    "model.eval()\n",
    "predictions, true_labels = [], []\n",
    "\n",
    "# Ensure 'device' is defined as MPS if available, or CPU as a fallback\n",
    "device = torch.device(\"mps\" if torch.backends.mps.is_available() else \"cpu\")\n",
    "\n",
    "for batch in val_loader:\n",
    "    # Move tensors to the appropriate device (MPS or CPU)\n",
    "    b_input_ids, b_input_mask, b_labels = [t.to(device) for t in batch]\n",
    "    \n",
    "    with torch.no_grad():\n",
    "        outputs = model(b_input_ids, token_type_ids=None, attention_mask=b_input_mask)\n",
    "        logits = outputs.logits\n",
    "    \n",
    "    # Move logits to CPU for numpy conversion, if needed for further processing\n",
    "    predictions.append(logits.detach().cpu().numpy())\n",
    "    true_labels.append(b_labels.detach().cpu().numpy())\n"
   ]
  },
  {
   "cell_type": "code",
   "execution_count": 23,
   "metadata": {},
   "outputs": [
    {
     "name": "stdout",
     "output_type": "stream",
     "text": [
      "              precision    recall  f1-score   support\n",
      "\n",
      "           0       0.99      0.99      0.99     92309\n",
      "           1       0.80      0.72      0.76      3439\n",
      "\n",
      "    accuracy                           0.98     95748\n",
      "   macro avg       0.89      0.86      0.87     95748\n",
      "weighted avg       0.98      0.98      0.98     95748\n",
      "\n"
     ]
    }
   ],
   "source": [
    "from sklearn.metrics import classification_report\n",
    "import numpy as np\n",
    "\n",
    "# Convert the predictions and true labels from lists of arrays to single arrays\n",
    "predictions = np.concatenate(predictions, axis=0)\n",
    "true_labels = np.concatenate(true_labels, axis=0)\n",
    "\n",
    "# Assuming predictions are the raw logits from your model\n",
    "# Apply sigmoid to convert logits to probabilities\n",
    "probabilities = torch.sigmoid(torch.from_numpy(predictions)).numpy()\n",
    "\n",
    "# Apply a threshold to these probabilities to get predicted labels\n",
    "threshold = 0.5\n",
    "predicted_labels = (probabilities > threshold).astype(int)\n",
    "\n",
    "# Now, you can use classification_report\n",
    "print(classification_report(true_labels, predicted_labels, zero_division=0))\n"
   ]
  },
  {
   "cell_type": "code",
   "execution_count": 26,
   "metadata": {},
   "outputs": [
    {
     "name": "stdout",
     "output_type": "stream",
     "text": [
      "Multi-Label Classification Accuracy: 0.9239\n"
     ]
    }
   ],
   "source": [
    "model.eval()  # Set the model to evaluation mode\n",
    "device = torch.device(\"mps\" if torch.backends.mps.is_available() else \"cpu\")\n",
    "\n",
    "threshold = 0.5  # Common choice for a threshold\n",
    "total_correct = 0\n",
    "total_samples = 0\n",
    "\n",
    "with torch.no_grad():\n",
    "    for batch in val_loader:\n",
    "        b_input_ids, b_input_mask, b_labels = [t.to(device) for t in batch]\n",
    "        outputs = model(b_input_ids, token_type_ids=None, attention_mask=b_input_mask)\n",
    "        \n",
    "        # Apply sigmoid to convert outputs to probabilities\n",
    "        probabilities = torch.sigmoid(outputs.logits)\n",
    "        \n",
    "        # Apply threshold to determine predicted labels\n",
    "        predicted_labels = (probabilities >= threshold).int()\n",
    "        \n",
    "        # Update total_correct by comparing with true labels\n",
    "        total_correct += (predicted_labels == b_labels.int()).all(dim=1).sum().item()\n",
    "        total_samples += b_labels.size(0)\n",
    "\n",
    "# Calculate multi-label accuracy\n",
    "accuracy = total_correct / total_samples\n",
    "print(f'Multi-Label Classification Accuracy: {accuracy:.4f}')\n"
   ]
  },
  {
   "cell_type": "code",
   "execution_count": 27,
   "metadata": {},
   "outputs": [],
   "source": [
    "import matplotlib.pyplot as plt\n",
    "from sklearn.metrics import precision_recall_curve, roc_curve, roc_auc_score\n",
    "\n",
    "# Assuming `model` is your trained model and `val_loader` is your DataLoader for validation data\n",
    "model.eval()  # Set the model to evaluation mode\n",
    "device = torch.device(\"mps\" if torch.backends.mps.is_available() else \"cpu\")"
   ]
  },
  {
   "cell_type": "code",
   "execution_count": 28,
   "metadata": {},
   "outputs": [],
   "source": [
    "# Storage for model outputs\n",
    "all_labels = []\n",
    "all_preds = []\n",
    "\n",
    "with torch.no_grad():\n",
    "    for batch in val_loader:\n",
    "        b_input_ids, b_input_mask, b_labels = [t.to(device) for t in batch]\n",
    "        outputs = model(b_input_ids, token_type_ids=None, attention_mask=b_input_mask)\n",
    "        logits = torch.sigmoid(outputs.logits)  # Assuming sigmoid activation for multi-label classification\n",
    "        all_labels.append(b_labels)\n",
    "        all_preds.append(logits)"
   ]
  },
  {
   "cell_type": "code",
   "execution_count": 29,
   "metadata": {},
   "outputs": [],
   "source": [
    "# Concatenate all the outputs and labels\n",
    "all_preds = torch.cat(all_preds, dim=0).cpu().numpy()\n",
    "all_labels = torch.cat(all_labels, dim=0).cpu().numpy()"
   ]
  },
  {
   "cell_type": "code",
   "execution_count": 30,
   "metadata": {},
   "outputs": [],
   "source": [
    "# Calculate precision-recall and ROC metrics for each class\n",
    "precision = dict()\n",
    "recall = dict()\n",
    "average_precision = dict()\n",
    "fpr = dict()\n",
    "tpr = dict()\n",
    "roc_auc = dict()"
   ]
  },
  {
   "cell_type": "code",
   "execution_count": 31,
   "metadata": {},
   "outputs": [],
   "source": [
    "# Plotting both Precision-Recall Curve and ROC Curve for each class\n",
    "for i in range(all_labels.shape[1]):  # Assuming your output has one column per class\n",
    "    precision[i], recall[i], _ = precision_recall_curve(all_labels[:, i], all_preds[:, i])\n",
    "    average_precision[i] = roc_auc_score(all_labels[:, i], all_preds[:, i], average=\"macro\")\n",
    "    fpr[i], tpr[i], _ = roc_curve(all_labels[:, i], all_preds[:, i])\n",
    "    roc_auc[i] = roc_auc_score(all_labels[:, i], all_preds[:, i])\n"
   ]
  },
  {
   "cell_type": "code",
   "execution_count": 32,
   "metadata": {},
   "outputs": [
    {
     "data": {
      "image/png": "[encoded data removed]",
      "text/plain": [
       "<Figure size 504x360 with 1 Axes>"
      ]
     },
     "metadata": {
      "needs_background": "light"
     },
     "output_type": "display_data"
    }
   ],
   "source": [
    "# Plot Precision-Recall Curve\n",
    "plt.figure(figsize=(7, 5))\n",
    "for i in range(all_labels.shape[1]):\n",
    "    plt.plot(recall[i], precision[i], lw=2, label='class {0} (area = {1:0.2f})'.format(i, average_precision[i]))\n",
    "plt.xlabel(\"Recall\")\n",
    "plt.ylabel(\"Precision\")\n",
    "plt.title(\"Precision-Recall Curve\")\n",
    "plt.legend(loc=\"best\")\n",
    "plt.show()\n"
   ]
  },
  {
   "cell_type": "code",
   "execution_count": 34,
   "metadata": {},
   "outputs": [
    {
     "data": {
      "image/png": "[encoded data removed]",
      "text/plain": [
       "<Figure size 504x360 with 1 Axes>"
      ]
     },
     "metadata": {
      "needs_background": "light"
     },
     "output_type": "display_data"
    }
   ],
   "source": [
    "# Plot ROC Curve\n",
    "plt.figure(figsize=(7, 5))\n",
    "for i in range(all_labels.shape[1]):\n",
    "    plt.plot(fpr[i], tpr[i], lw=2, label='class {0} (area = {1:0.2f})'.format(i, roc_auc[i]))\n",
    "#plt.plot([0, 1], [0, 1], color='navy', lw=2, linestyle='--')\n",
    "plt.xlabel(\"False Positive Rate\")\n",
    "plt.ylabel(\"True Positive Rate\")\n",
    "plt.title(\"ROC Curve\")\n",
    "plt.legend(loc=\"best\")\n",
    "plt.show()"
   ]
  },
  {
   "cell_type": "code",
   "execution_count": 35,
   "metadata": {},
   "outputs": [
    {
     "name": "stdout",
     "output_type": "stream",
     "text": [
      "               precision    recall  f1-score   support\n",
      "\n",
      "        toxic       0.80      0.80      0.80      1480\n",
      " severe_toxic       0.59      0.16      0.25       148\n",
      "      obscene       0.88      0.75      0.81       836\n",
      "       threat       0.38      0.57      0.45        37\n",
      "       insult       0.78      0.70      0.74       791\n",
      "identity_hate       0.63      0.45      0.53       147\n",
      "\n",
      "    micro avg       0.80      0.72      0.76      3439\n",
      "    macro avg       0.68      0.57      0.60      3439\n",
      " weighted avg       0.80      0.72      0.75      3439\n",
      "  samples avg       0.07      0.07      0.06      3439\n",
      "\n"
     ]
    },
    {
     "name": "stderr",
     "output_type": "stream",
     "text": [
      "/opt/anaconda3/lib/python3.9/site-packages/sklearn/metrics/_classification.py:1318: UndefinedMetricWarning: Precision and F-score are ill-defined and being set to 0.0 in samples with no predicted labels. Use `zero_division` parameter to control this behavior.\n",
      "  _warn_prf(average, modifier, msg_start, len(result))\n",
      "/opt/anaconda3/lib/python3.9/site-packages/sklearn/metrics/_classification.py:1318: UndefinedMetricWarning: Recall and F-score are ill-defined and being set to 0.0 in samples with no true labels. Use `zero_division` parameter to control this behavior.\n",
      "  _warn_prf(average, modifier, msg_start, len(result))\n"
     ]
    }
   ],
   "source": [
    "from sklearn.metrics import classification_report\n",
    "import numpy as np\n",
    "import torch\n",
    "\n",
    "# Assuming your model has been trained and you have a DataLoader 'val_loader' for validation data\n",
    "# Also assuming 'device' is defined as before to use MPS if available\n",
    "\n",
    "model.eval()  # Set the model to evaluation mode\n",
    "\n",
    "# Prepare lists to store true labels and predictions\n",
    "true_labels = []\n",
    "predictions = []\n",
    "\n",
    "with torch.no_grad():\n",
    "    for batch in val_loader:\n",
    "        # Add batch to GPU or MPS\n",
    "        batch = tuple(t.to(device) for t in batch)\n",
    "        b_input_ids, b_input_mask, b_labels = batch\n",
    "\n",
    "        # Predict\n",
    "        outputs = model(b_input_ids, token_type_ids=None, attention_mask=b_input_mask)\n",
    "\n",
    "        # Convert output probabilities to predicted class (0 or 1)\n",
    "        preds = torch.sigmoid(outputs.logits).to('cpu').numpy()\n",
    "        preds = np.where(preds > 0.5, 1, 0)\n",
    "\n",
    "        # Append batch predictions and true labels\n",
    "        predictions.append(preds)\n",
    "        true_labels.append(b_labels.to('cpu').numpy())\n",
    "\n",
    "# Flatten the lists\n",
    "predictions = np.vstack(predictions)\n",
    "true_labels = np.vstack(true_labels)\n",
    "\n",
    "# Calculate the classification report\n",
    "report = classification_report(true_labels, predictions, target_names=['toxic', 'severe_toxic', 'obscene', 'threat', 'insult', 'identity_hate'])\n",
    "\n",
    "print(report)"
   ]
  },
  {
   "cell_type": "code",
   "execution_count": 37,
   "metadata": {},
   "outputs": [
    {
     "name": "stdout",
     "output_type": "stream",
     "text": [
      "Multi-Label Subset Accuracy: 0.9239\n"
     ]
    }
   ],
   "source": [
    "from sklearn.metrics import accuracy_score\n",
    "\n",
    "model.eval()  # Make sure the model is in eval mode\n",
    "\n",
    "all_preds = []\n",
    "all_true = []\n",
    "\n",
    "with torch.no_grad():\n",
    "    for batch in val_loader:\n",
    "        b_input_ids, b_input_mask, b_labels = [t.to(device) for t in batch]\n",
    "        outputs = model(b_input_ids, token_type_ids=None, attention_mask=b_input_mask)\n",
    "        preds = (torch.sigmoid(outputs.logits) > 0.5).int()  # Threshold probabilities for multi-label\n",
    "        all_preds.extend(preds.cpu().numpy())  # Store predictions\n",
    "        all_true.extend(b_labels.cpu().numpy())  # Store true labels\n",
    "\n",
    "# Compute accuracy for multi-label task\n",
    "# Note: This calculates the \"subset accuracy\" for multi-label tasks.\n",
    "# It's a strict metric that requires all labels for each sample to be correct.\n",
    "accuracy = accuracy_score(all_true, all_preds)\n",
    "print(f\"Multi-Label Subset Accuracy: {accuracy:.4f}\")"
   ]
  },
  {
   "cell_type": "code",
   "execution_count": null,
   "metadata": {},
   "outputs": [],
   "source": []
  }
 ],
 "metadata": {
  "kernelspec": {
   "display_name": "Python 3",
   "language": "python",
   "name": "python3"
  },
  "language_info": {
   "codemirror_mode": {
    "name": "ipython",
    "version": 3
   },
   "file_extension": ".py",
   "mimetype": "text/x-python",
   "name": "python",
   "nbconvert_exporter": "python",
   "pygments_lexer": "ipython3",
   "version": "3.9.11"
  }
 },
 "nbformat": 4,
 "nbformat_minor": 2
}
